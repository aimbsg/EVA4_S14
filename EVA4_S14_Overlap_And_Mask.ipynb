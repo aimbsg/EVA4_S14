{
  "nbformat": 4,
  "nbformat_minor": 0,
  "metadata": {
    "colab": {
      "name": "EVA4_S14_Overlap_And_Mask.ipynb",
      "provenance": [],
      "collapsed_sections": [],
      "authorship_tag": "ABX9TyOVsYeu7tpfVAesHKM+jn2z",
      "include_colab_link": true
    },
    "kernelspec": {
      "name": "python3",
      "display_name": "Python 3"
    },
    "accelerator": "GPU"
  },
  "cells": [
    {
      "cell_type": "markdown",
      "metadata": {
        "id": "view-in-github",
        "colab_type": "text"
      },
      "source": [
        "<a href=\"https://colab.research.google.com/github/aimbsg/EVA4_S14/blob/master/EVA4_S14_Overlap_And_Mask.ipynb\" target=\"_parent\"><img src=\"https://colab.research.google.com/assets/colab-badge.svg\" alt=\"Open In Colab\"/></a>"
      ]
    },
    {
      "cell_type": "code",
      "metadata": {
        "id": "TSFBO3gOuMlM",
        "colab_type": "code",
        "outputId": "0a401014-e94d-4527-b37a-095cd1edbcda",
        "colab": {
          "base_uri": "https://localhost:8080/",
          "height": 121
        }
      },
      "source": [
        "from google.colab import drive\n",
        "drive.mount('/content/gdrive/', force_remount = True)"
      ],
      "execution_count": 0,
      "outputs": [
        {
          "output_type": "stream",
          "text": [
            "Go to this URL in a browser: https://accounts.google.com/o/oauth2/auth?client_id=947318989803-6bn6qk8qdgf4n4g3pfee6491hc0brc4i.apps.googleusercontent.com&redirect_uri=urn%3aietf%3awg%3aoauth%3a2.0%3aoob&response_type=code&scope=email%20https%3a%2f%2fwww.googleapis.com%2fauth%2fdocs.test%20https%3a%2f%2fwww.googleapis.com%2fauth%2fdrive%20https%3a%2f%2fwww.googleapis.com%2fauth%2fdrive.photos.readonly%20https%3a%2f%2fwww.googleapis.com%2fauth%2fpeopleapi.readonly\n",
            "\n",
            "Enter your authorization code:\n",
            "··········\n",
            "Mounted at /content/gdrive/\n"
          ],
          "name": "stdout"
        }
      ]
    },
    {
      "cell_type": "code",
      "metadata": {
        "id": "ipnaEPbiuZtP",
        "colab_type": "code",
        "outputId": "ed761b1b-7afe-4ba9-f63b-2bd23ba4d0a4",
        "colab": {
          "base_uri": "https://localhost:8080/",
          "height": 34
        }
      },
      "source": [
        "%cd '/content/gdrive/My Drive/EVA4_S14_S15/input_data/raw/bg/'"
      ],
      "execution_count": 0,
      "outputs": [
        {
          "output_type": "stream",
          "text": [
            "/content/gdrive/My Drive/EVA4_S14_S15/input_data/raw/bg\n"
          ],
          "name": "stdout"
        }
      ]
    },
    {
      "cell_type": "code",
      "metadata": {
        "id": "IFyVXMPHun0r",
        "colab_type": "code",
        "colab": {}
      },
      "source": [
        "from PIL import Image"
      ],
      "execution_count": 0,
      "outputs": []
    },
    {
      "cell_type": "code",
      "metadata": {
        "id": "PmBNYmlZus_3",
        "colab_type": "code",
        "colab": {}
      },
      "source": [
        "for i in range(1,101):\n",
        "  name = \"img_bg_\"+str(i)+\".jfif\"\n",
        "  img = Image.open(name)\n",
        "  new_name = \"img_bg_\"+str(i)+\".jpeg\"\n",
        "  img.save(new_name)"
      ],
      "execution_count": 0,
      "outputs": []
    },
    {
      "cell_type": "code",
      "metadata": {
        "id": "MvIOENc-u1em",
        "colab_type": "code",
        "outputId": "1765dfda-f8bf-4dd8-ae40-9ed0f2775817",
        "colab": {
          "base_uri": "https://localhost:8080/",
          "height": 34
        }
      },
      "source": [
        "%cd '/content/gdrive/My Drive/EVA4_S14_S15/input_data/raw/fg/'"
      ],
      "execution_count": 0,
      "outputs": [
        {
          "output_type": "stream",
          "text": [
            "/content/gdrive/My Drive/EVA4_S14_S15/input_data/raw/fg\n"
          ],
          "name": "stdout"
        }
      ]
    },
    {
      "cell_type": "code",
      "metadata": {
        "id": "c1WAvsEl3abS",
        "colab_type": "code",
        "colab": {}
      },
      "source": [
        "for i in range(1,101):\n",
        "  name = \"img_fg_\"+str(i)+\".jfif\"\n",
        "  img = Image.open(name)\n",
        "  new_name = \"img_fg_\"+str(i)+\".jpeg\"\n",
        "  img.save(new_name)"
      ],
      "execution_count": 0,
      "outputs": []
    },
    {
      "cell_type": "markdown",
      "metadata": {
        "id": "R1Q3oZIZYW5A",
        "colab_type": "text"
      },
      "source": [
        ".png to jpeg"
      ]
    },
    {
      "cell_type": "code",
      "metadata": {
        "id": "UIaIhfvMYRhh",
        "colab_type": "code",
        "outputId": "d032c599-e827-4712-bad2-405936d0e4da",
        "colab": {
          "base_uri": "https://localhost:8080/",
          "height": 34
        }
      },
      "source": [
        "%cd '/content/gdrive/My Drive/EVA4_S14_S15/input_data/jpeg/fg/Type2/'"
      ],
      "execution_count": 0,
      "outputs": [
        {
          "output_type": "stream",
          "text": [
            "/content/gdrive/My Drive/EVA4_S14_S15/input_data/jpeg/fg/Type2\n"
          ],
          "name": "stdout"
        }
      ]
    },
    {
      "cell_type": "code",
      "metadata": {
        "id": "s108-pomY3pe",
        "colab_type": "code",
        "colab": {}
      },
      "source": [
        "for i in range(1,101):\n",
        "  name = \"img_fg_\"+str(i)+\".jpeg\"\n",
        "  img = Image.open(name)\n",
        "  new_name = \"img_fg_\"+str(i)+\".png\"\n",
        "  img.save(new_name)"
      ],
      "execution_count": 0,
      "outputs": []
    },
    {
      "cell_type": "markdown",
      "metadata": {
        "id": "UfA3zlqu52qb",
        "colab_type": "text"
      },
      "source": [
        "Image overlay\n",
        "\n",
        "https://note.nkmk.me/en/python-opencv-numpy-alpha-blend-mask/"
      ]
    },
    {
      "cell_type": "code",
      "metadata": {
        "id": "OE2emz9NTJpM",
        "colab_type": "code",
        "colab": {}
      },
      "source": [
        "import numpy as np\n",
        "from PIL import Image\n",
        "import random\n",
        "import copy\n",
        "import PIL"
      ],
      "execution_count": 0,
      "outputs": []
    },
    {
      "cell_type": "code",
      "metadata": {
        "id": "_JhroBmL1GUE",
        "colab_type": "code",
        "outputId": "08321e02-d8b7-4e9a-9245-be7733ee42eb",
        "colab": {
          "base_uri": "https://localhost:8080/",
          "height": 34
        }
      },
      "source": [
        "%cd '/content/gdrive/My Drive/EVA4_S14_S15/input_data/jpeg/'"
      ],
      "execution_count": 0,
      "outputs": [
        {
          "output_type": "stream",
          "text": [
            "/content/gdrive/My Drive/EVA4_S14_S15/input_data/jpeg\n"
          ],
          "name": "stdout"
        }
      ]
    },
    {
      "cell_type": "code",
      "metadata": {
        "id": "4--doaQbTNXt",
        "colab_type": "code",
        "colab": {}
      },
      "source": [
        "path = '/content/gdrive/My Drive/EVA4_S14_S15/input_data/jpeg/'\n",
        "black = np.zeros((224,224,3))"
      ],
      "execution_count": 0,
      "outputs": []
    },
    {
      "cell_type": "code",
      "metadata": {
        "id": "DLEFM5YD12X3",
        "colab_type": "code",
        "colab": {}
      },
      "source": [
        "start = 280001 # -----------------------Change the start number for each batch----------------------------------"
      ],
      "execution_count": 0,
      "outputs": []
    },
    {
      "cell_type": "code",
      "metadata": {
        "id": "iaGKXMqVXMua",
        "colab_type": "code",
        "colab": {}
      },
      "source": [
        "for i in range(71,81): #1 background image  ------------- 10 BG images chosen for each iteration -------------\n",
        "\n",
        "    bg = Image.open(f'{path}bg/img_bg_{str(i)}.jpg')\n",
        "    bg = bg.resize((224,224))  # --------------------- resizing all the BG images to 224 X 224 \n",
        "\n",
        "    for j in  range(1,101): #2 foreground image  ---------------This is 1-100 == Same for all-------\n",
        "      fg = Image.open(f'{path}fg/fg_wo_bg/img_fg_{str(j)}.png')\n",
        "      mask = Image.open(f'{path}fg/fg_mask/img_fg_{str(j)}.png')\n",
        "\n",
        "      fg = fg.resize((160,160))       # --------------------- resizing all the BG images to 160 X 160 \n",
        "      mask = mask.resize((160,160))   # --------------------- resizing all the BG images to 160 X 160 \n",
        "\n",
        "      for k in range(1,21): #3 Random left and right rotation and position ------------- 20 times(Same for all)--------------------------------\n",
        "       \n",
        "        r1 = random.randint(1, 80)\n",
        "        r2 = random.randint(1, 80)\n",
        "        bg1 = copy.deepcopy(bg)\n",
        "        bg2 = copy.deepcopy(bg)\n",
        "        fg1 = copy.deepcopy(fg)\n",
        "        m1 = copy.deepcopy(mask)\n",
        "        black_img1 = Image.fromarray(black,mode='RGB')\n",
        "        black_img2 = Image.fromarray(black,mode='RGB')\n",
        "\n",
        "        flipfg = fg1.transpose(PIL.Image.FLIP_LEFT_RIGHT) #flip image\n",
        "        flipmask = m1.transpose(PIL.Image.FLIP_LEFT_RIGHT) #flip mask\n",
        "\n",
        "        bg1.paste(fg1, (r1,r2),fg1)\n",
        "        bg2.paste(flipfg,(r1,r2),flipfg)\n",
        "        black_img1.paste(m1,(r1,r2))\n",
        "        black_img2.paste(flipmask,(r1,r2))           \n",
        "        # black_img1.paste(m1,(r1,r2), m1)\n",
        "        # black_img2.paste(flipmask,(r1,r2), flipmask)   \n",
        "\n",
        "# ------- change the batch number for every iteration\n",
        "\n",
        "        bg1.save(f\"{path}fg_bg/batch_8/fg_bg_{str(start)}.jpg\")#------------Create Different folder-------------\n",
        "        black_img1.save(f\"{path}fg_bg_mask/batch_8/fg_bg_mask{str(start)}.jpg\") #-------------Create Different Path folder----\n",
        "\n",
        "        start+=1\n",
        "\n",
        "        bg2.save(f\"{path}fg_bg/batch_8/fg_bg_{str(start)}.jpg\")#------------Create Different folder---------------\n",
        "        black_img2.save(f\"{path}fg_bg_mask/batch_8/fg_bg_mask{str(start)}.jpg\")#------------Create Different folder-----------\n",
        "\n",
        "        start+=1\n",
        "        print(start)"
      ],
      "execution_count": 0,
      "outputs": []
    },
    {
      "cell_type": "code",
      "metadata": {
        "id": "f_u87XXrNiN1",
        "colab_type": "code",
        "outputId": "051c0397-5828-4ebd-dfcc-62e00a5370db",
        "colab": {
          "base_uri": "https://localhost:8080/",
          "height": 34
        }
      },
      "source": [
        "black_img2.mode"
      ],
      "execution_count": 0,
      "outputs": [
        {
          "output_type": "execute_result",
          "data": {
            "text/plain": [
              "'RGB'"
            ]
          },
          "metadata": {
            "tags": []
          },
          "execution_count": 17
        }
      ]
    },
    {
      "cell_type": "code",
      "metadata": {
        "id": "h2k7Zzdh5cXj",
        "colab_type": "code",
        "outputId": "716c669b-7dc4-4316-9c2a-693fa1553642",
        "colab": {
          "base_uri": "https://localhost:8080/",
          "height": 185
        }
      },
      "source": [
        "import os\n",
        "for i in range(1,11):\n",
        "  dir_name = f\"/content/gdrive/My Drive/EVA4_S14_S15/input_data/jpeg/fg_bg/batch_{str(i)}/\" \n",
        "  file_count =  [name for name in os.listdir(dir_name) if os.path.isfile(os.path.join(dir_name, name))]\n",
        "  print(len(file_count))"
      ],
      "execution_count": 0,
      "outputs": [
        {
          "output_type": "stream",
          "text": [
            "40000\n",
            "40000\n",
            "40000\n",
            "40000\n",
            "40000\n",
            "40000\n",
            "40000\n",
            "40000\n",
            "40000\n",
            "40000\n"
          ],
          "name": "stdout"
        }
      ]
    },
    {
      "cell_type": "code",
      "metadata": {
        "id": "UqGkieN07GGt",
        "colab_type": "code",
        "outputId": "3d1c9edb-ae94-4220-8496-254befa356b2",
        "colab": {
          "base_uri": "https://localhost:8080/",
          "height": 185
        }
      },
      "source": [
        "import os\n",
        "for i in range(1,11):\n",
        "  dir_name = f\"/content/gdrive/My Drive/EVA4_S14_S15/input_data/jpeg/fg_bg_mask/batch_{str(i)}/\" \n",
        "  file_count =  [name for name in os.listdir(dir_name) if os.path.isfile(os.path.join(dir_name, name))]\n",
        "  print(len(file_count))"
      ],
      "execution_count": 0,
      "outputs": [
        {
          "output_type": "stream",
          "text": [
            "40000\n",
            "40000\n",
            "40000\n",
            "40000\n",
            "40000\n",
            "40000\n",
            "40000\n",
            "40000\n",
            "40000\n",
            "40000\n"
          ],
          "name": "stdout"
        }
      ]
    },
    {
      "cell_type": "code",
      "metadata": {
        "id": "fM0QwNilv88U",
        "colab_type": "code",
        "colab": {}
      },
      "source": [
        "# import shutil\n",
        "# path = \"/content/gdrive/My Drive/EVA4_S14_S15/input_data/jpeg/fg_bg/batch_8\"\n",
        "# shutil.rmtree(path)"
      ],
      "execution_count": 0,
      "outputs": []
    },
    {
      "cell_type": "code",
      "metadata": {
        "id": "uzgdtiL1xrCX",
        "colab_type": "code",
        "colab": {}
      },
      "source": [
        "# path = \"/content/gdrive/My Drive/EVA4_S14_S15/input_data/jpeg/fg_bg/batch_8\"\n",
        "# os.mkdir(path)"
      ],
      "execution_count": 0,
      "outputs": []
    }
  ]
}