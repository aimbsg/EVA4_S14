{
  "nbformat": 4,
  "nbformat_minor": 0,
  "metadata": {
    "colab": {
      "name": "EVA4_S14_Dense_depth_model.ipynb",
      "provenance": [],
      "collapsed_sections": [],
      "machine_shape": "hm",
      "authorship_tag": "ABX9TyN90NeU5g8TVU1/l6w32IFU",
      "include_colab_link": true
    },
    "kernelspec": {
      "name": "python3",
      "display_name": "Python 3"
    },
    "accelerator": "GPU",
    "widgets": {
      "application/vnd.jupyter.widget-state+json": {
        "cd65a252b7334a3ca8b0b76ec62507b7": {
          "model_module": "@jupyter-widgets/controls",
          "model_name": "HBoxModel",
          "state": {
            "_view_name": "HBoxView",
            "_dom_classes": [],
            "_model_name": "HBoxModel",
            "_view_module": "@jupyter-widgets/controls",
            "_model_module_version": "1.5.0",
            "_view_count": null,
            "_view_module_version": "1.5.0",
            "box_style": "",
            "layout": "IPY_MODEL_c5524308f1114a3d9e3fdbc65a324e22",
            "_model_module": "@jupyter-widgets/controls",
            "children": [
              "IPY_MODEL_b68b8a82e6ce49a29a22fa1650bf2288",
              "IPY_MODEL_b6910d451a484485a0434d8d0038e962"
            ]
          }
        },
        "c5524308f1114a3d9e3fdbc65a324e22": {
          "model_module": "@jupyter-widgets/base",
          "model_name": "LayoutModel",
          "state": {
            "_view_name": "LayoutView",
            "grid_template_rows": null,
            "right": null,
            "justify_content": null,
            "_view_module": "@jupyter-widgets/base",
            "overflow": null,
            "_model_module_version": "1.2.0",
            "_view_count": null,
            "flex_flow": null,
            "width": null,
            "min_width": null,
            "border": null,
            "align_items": null,
            "bottom": null,
            "_model_module": "@jupyter-widgets/base",
            "top": null,
            "grid_column": null,
            "overflow_y": null,
            "overflow_x": null,
            "grid_auto_flow": null,
            "grid_area": null,
            "grid_template_columns": null,
            "flex": null,
            "_model_name": "LayoutModel",
            "justify_items": null,
            "grid_row": null,
            "max_height": null,
            "align_content": null,
            "visibility": null,
            "align_self": null,
            "height": null,
            "min_height": null,
            "padding": null,
            "grid_auto_rows": null,
            "grid_gap": null,
            "max_width": null,
            "order": null,
            "_view_module_version": "1.2.0",
            "grid_template_areas": null,
            "object_position": null,
            "object_fit": null,
            "grid_auto_columns": null,
            "margin": null,
            "display": null,
            "left": null
          }
        },
        "b68b8a82e6ce49a29a22fa1650bf2288": {
          "model_module": "@jupyter-widgets/controls",
          "model_name": "FloatProgressModel",
          "state": {
            "_view_name": "ProgressView",
            "style": "IPY_MODEL_9ad55e010b174ea7ae40b4956241807d",
            "_dom_classes": [],
            "description": "Loading 1 to 2000 file: 100%",
            "_model_name": "FloatProgressModel",
            "bar_style": "success",
            "max": 2000,
            "_view_module": "@jupyter-widgets/controls",
            "_model_module_version": "1.5.0",
            "value": 2000,
            "_view_count": null,
            "_view_module_version": "1.5.0",
            "orientation": "horizontal",
            "min": 0,
            "description_tooltip": null,
            "_model_module": "@jupyter-widgets/controls",
            "layout": "IPY_MODEL_713fc81dca7a465294f37b325e45a99b"
          }
        },
        "b6910d451a484485a0434d8d0038e962": {
          "model_module": "@jupyter-widgets/controls",
          "model_name": "HTMLModel",
          "state": {
            "_view_name": "HTMLView",
            "style": "IPY_MODEL_22cff13eabce4e768fbde3415e21064f",
            "_dom_classes": [],
            "description": "",
            "_model_name": "HTMLModel",
            "placeholder": "​",
            "_view_module": "@jupyter-widgets/controls",
            "_model_module_version": "1.5.0",
            "value": " 2000/2000 [01:28&lt;00:00, 22.57it/s]",
            "_view_count": null,
            "_view_module_version": "1.5.0",
            "description_tooltip": null,
            "_model_module": "@jupyter-widgets/controls",
            "layout": "IPY_MODEL_9bd7dc3314c84e9cb85b289dc3da2832"
          }
        },
        "9ad55e010b174ea7ae40b4956241807d": {
          "model_module": "@jupyter-widgets/controls",
          "model_name": "ProgressStyleModel",
          "state": {
            "_view_name": "StyleView",
            "_model_name": "ProgressStyleModel",
            "description_width": "initial",
            "_view_module": "@jupyter-widgets/base",
            "_model_module_version": "1.5.0",
            "_view_count": null,
            "_view_module_version": "1.2.0",
            "bar_color": null,
            "_model_module": "@jupyter-widgets/controls"
          }
        },
        "713fc81dca7a465294f37b325e45a99b": {
          "model_module": "@jupyter-widgets/base",
          "model_name": "LayoutModel",
          "state": {
            "_view_name": "LayoutView",
            "grid_template_rows": null,
            "right": null,
            "justify_content": null,
            "_view_module": "@jupyter-widgets/base",
            "overflow": null,
            "_model_module_version": "1.2.0",
            "_view_count": null,
            "flex_flow": null,
            "width": null,
            "min_width": null,
            "border": null,
            "align_items": null,
            "bottom": null,
            "_model_module": "@jupyter-widgets/base",
            "top": null,
            "grid_column": null,
            "overflow_y": null,
            "overflow_x": null,
            "grid_auto_flow": null,
            "grid_area": null,
            "grid_template_columns": null,
            "flex": null,
            "_model_name": "LayoutModel",
            "justify_items": null,
            "grid_row": null,
            "max_height": null,
            "align_content": null,
            "visibility": null,
            "align_self": null,
            "height": null,
            "min_height": null,
            "padding": null,
            "grid_auto_rows": null,
            "grid_gap": null,
            "max_width": null,
            "order": null,
            "_view_module_version": "1.2.0",
            "grid_template_areas": null,
            "object_position": null,
            "object_fit": null,
            "grid_auto_columns": null,
            "margin": null,
            "display": null,
            "left": null
          }
        },
        "22cff13eabce4e768fbde3415e21064f": {
          "model_module": "@jupyter-widgets/controls",
          "model_name": "DescriptionStyleModel",
          "state": {
            "_view_name": "StyleView",
            "_model_name": "DescriptionStyleModel",
            "description_width": "",
            "_view_module": "@jupyter-widgets/base",
            "_model_module_version": "1.5.0",
            "_view_count": null,
            "_view_module_version": "1.2.0",
            "_model_module": "@jupyter-widgets/controls"
          }
        },
        "9bd7dc3314c84e9cb85b289dc3da2832": {
          "model_module": "@jupyter-widgets/base",
          "model_name": "LayoutModel",
          "state": {
            "_view_name": "LayoutView",
            "grid_template_rows": null,
            "right": null,
            "justify_content": null,
            "_view_module": "@jupyter-widgets/base",
            "overflow": null,
            "_model_module_version": "1.2.0",
            "_view_count": null,
            "flex_flow": null,
            "width": null,
            "min_width": null,
            "border": null,
            "align_items": null,
            "bottom": null,
            "_model_module": "@jupyter-widgets/base",
            "top": null,
            "grid_column": null,
            "overflow_y": null,
            "overflow_x": null,
            "grid_auto_flow": null,
            "grid_area": null,
            "grid_template_columns": null,
            "flex": null,
            "_model_name": "LayoutModel",
            "justify_items": null,
            "grid_row": null,
            "max_height": null,
            "align_content": null,
            "visibility": null,
            "align_self": null,
            "height": null,
            "min_height": null,
            "padding": null,
            "grid_auto_rows": null,
            "grid_gap": null,
            "max_width": null,
            "order": null,
            "_view_module_version": "1.2.0",
            "grid_template_areas": null,
            "object_position": null,
            "object_fit": null,
            "grid_auto_columns": null,
            "margin": null,
            "display": null,
            "left": null
          }
        }
      }
    }
  },
  "cells": [
    {
      "cell_type": "markdown",
      "metadata": {
        "id": "view-in-github",
        "colab_type": "text"
      },
      "source": [
        "<a href=\"https://colab.research.google.com/github/aimbsg/EVA4_S14/blob/master/EVA4_S14_Dense_depth_model.ipynb\" target=\"_parent\"><img src=\"https://colab.research.google.com/assets/colab-badge.svg\" alt=\"Open In Colab\"/></a>"
      ]
    },
    {
      "cell_type": "code",
      "metadata": {
        "id": "rTfHcoNndj20",
        "colab_type": "code",
        "colab": {}
      },
      "source": [
        "drive.flush_and_unmount()"
      ],
      "execution_count": 0,
      "outputs": []
    },
    {
      "cell_type": "code",
      "metadata": {
        "id": "NN2C0-tF2BwZ",
        "colab_type": "code",
        "outputId": "c0f094fe-9f3e-4206-8078-93bc23faa455",
        "colab": {
          "base_uri": "https://localhost:8080/",
          "height": 34
        }
      },
      "source": [
        "from google.colab import drive\n",
        "drive.mount('/content/gdrive/')"
      ],
      "execution_count": 1,
      "outputs": [
        {
          "output_type": "stream",
          "text": [
            "Drive already mounted at /content/gdrive/; to attempt to forcibly remount, call drive.mount(\"/content/gdrive/\", force_remount=True).\n"
          ],
          "name": "stdout"
        }
      ]
    },
    {
      "cell_type": "code",
      "metadata": {
        "id": "FyibCo0T2GX5",
        "colab_type": "code",
        "outputId": "f747cf37-735d-4783-85c6-cc5e0b5df1ca",
        "colab": {
          "base_uri": "https://localhost:8080/",
          "height": 34
        }
      },
      "source": [
        "%cd '/content/gdrive/My Drive/EVA4_S14_S15/'"
      ],
      "execution_count": 2,
      "outputs": [
        {
          "output_type": "stream",
          "text": [
            "/content/gdrive/My Drive/EVA4_S14_S15\n"
          ],
          "name": "stdout"
        }
      ]
    },
    {
      "cell_type": "code",
      "metadata": {
        "id": "Gv6HTP6eb9Gf",
        "colab_type": "code",
        "outputId": "9938abd6-112d-4294-fa96-7cb9d7914467",
        "colab": {
          "base_uri": "https://localhost:8080/",
          "height": 135
        }
      },
      "source": [
        "!git clone https://github.com/ialhashim/DenseDepth.git"
      ],
      "execution_count": 0,
      "outputs": [
        {
          "output_type": "stream",
          "text": [
            "Cloning into 'DenseDepth'...\n",
            "remote: Enumerating objects: 4, done.\u001b[K\n",
            "remote: Counting objects: 100% (4/4), done.\u001b[K\n",
            "remote: Compressing objects: 100% (4/4), done.\u001b[K\n",
            "remote: Total 235 (delta 0), reused 1 (delta 0), pack-reused 231\u001b[K\n",
            "Receiving objects: 100% (235/235), 11.80 MiB | 18.65 MiB/s, done.\n",
            "Resolving deltas: 100% (113/113), done.\n"
          ],
          "name": "stdout"
        }
      ]
    },
    {
      "cell_type": "code",
      "metadata": {
        "id": "PLc1cU5RoYim",
        "colab_type": "code",
        "outputId": "9fa26621-50a3-4c5e-daee-28e30ec4c332",
        "colab": {
          "base_uri": "https://localhost:8080/",
          "height": 202
        }
      },
      "source": [
        "!wget https://s3-eu-west-1.amazonaws.com/densedepth/nyu.h5 -O ./DenseDepth/nyu.h5"
      ],
      "execution_count": 0,
      "outputs": [
        {
          "output_type": "stream",
          "text": [
            "--2020-05-09 03:01:48--  https://s3-eu-west-1.amazonaws.com/densedepth/nyu.h5\n",
            "Resolving s3-eu-west-1.amazonaws.com (s3-eu-west-1.amazonaws.com)... 52.218.108.91\n",
            "Connecting to s3-eu-west-1.amazonaws.com (s3-eu-west-1.amazonaws.com)|52.218.108.91|:443... connected.\n",
            "HTTP request sent, awaiting response... 200 OK\n",
            "Length: 172897376 (165M) [application/h5]\n",
            "Saving to: ‘./DenseDepth/nyu.h5’\n",
            "\n",
            "./DenseDepth/nyu.h5 100%[===================>] 164.89M  76.3MB/s    in 2.2s    \n",
            "\n",
            "2020-05-09 03:01:50 (76.3 MB/s) - ‘./DenseDepth/nyu.h5’ saved [172897376/172897376]\n",
            "\n"
          ],
          "name": "stdout"
        }
      ]
    },
    {
      "cell_type": "code",
      "metadata": {
        "id": "YhN5lEsLLkBh",
        "colab_type": "code",
        "colab": {}
      },
      "source": [
        "! ls '/content/gdrive/My Drive/EVA4_S14_S15/input_data/jpeg/fg_bg_depth/batch_1/' | wc -l"
      ],
      "execution_count": 0,
      "outputs": []
    },
    {
      "cell_type": "code",
      "metadata": {
        "id": "qm3Uw6c-7I8G",
        "colab_type": "code",
        "outputId": "baee03aa-3829-49f3-d104-a2077354f0bd",
        "colab": {
          "base_uri": "https://localhost:8080/",
          "height": 34
        }
      },
      "source": [
        "%cd '/content/gdrive/My Drive/EVA4_S14_S15/DenseDepth/'"
      ],
      "execution_count": 3,
      "outputs": [
        {
          "output_type": "stream",
          "text": [
            "/content/gdrive/My Drive/EVA4_S14_S15/DenseDepth\n"
          ],
          "name": "stdout"
        }
      ]
    },
    {
      "cell_type": "code",
      "metadata": {
        "id": "NkYht5QAvNNe",
        "colab_type": "code",
        "outputId": "3b279e40-00a6-4fe4-b00c-eb3de66cc15d",
        "colab": {
          "base_uri": "https://localhost:8080/",
          "height": 84
        }
      },
      "source": [
        "!ls"
      ],
      "execution_count": 4,
      "outputs": [
        {
          "output_type": "stream",
          "text": [
            "augment.py\tdemo.py\t\t  examples   model.py\t  README.md   train.py\n",
            "callbacks.py\tdemo_rgb.npy\t  layers.py  nyu.h5\t  Tensorflow  utils.py\n",
            "data.py\t\tDenseDepth.ipynb  LICENSE    __pycache__  test.png\n",
            "demo_depth.npy\tevaluate.py\t  loss.py    PyTorch\t  test.py\n"
          ],
          "name": "stdout"
        }
      ]
    },
    {
      "cell_type": "code",
      "metadata": {
        "id": "HkBWzjbPvg-l",
        "colab_type": "code",
        "colab": {}
      },
      "source": [
        "import numpy as np\n",
        "from PIL import Image\n",
        "import matplotlib.pyplot as plt\n",
        "from tqdm import notebook\n",
        "\n",
        "def DepthNorm(x, maxDepth):\n",
        "    return maxDepth / x\n",
        "\n",
        "def predict(model, images, minDepth=10, maxDepth=1000, batch_size=8):\n",
        "    # Support multiple RGBs, one RGB image, even grayscale \n",
        "    if len(images.shape) < 3: images = np.stack((images,images,images), axis=2)\n",
        "    if len(images.shape) < 4: images = images.reshape((1, images.shape[0], images.shape[1], images.shape[2]))\n",
        "    # Compute predictions\n",
        "    predictions = model.predict(images, batch_size=batch_size)\n",
        "    # Put in expected range\n",
        "    return np.clip(DepthNorm(predictions, maxDepth=maxDepth), minDepth, maxDepth) / maxDepth\n",
        "\n",
        "def scale_up(scale, images):\n",
        "    from skimage.transform import resize\n",
        "    scaled = []\n",
        "    \n",
        "    for i in range(len(images)):\n",
        "        img = images[i]\n",
        "        output_shape = (scale * img.shape[0], scale * img.shape[1])\n",
        "        scaled.append( resize(img, output_shape, order=1, preserve_range=True, mode='reflect', anti_aliasing=True ) )\n",
        "\n",
        "    return np.stack(scaled)\n",
        "\n",
        "def load_images(image_files,start,end):\n",
        "    loaded_images = []\n",
        "    i = 0\n",
        "    for file in image_files[start:end]:\n",
        "        x = np.clip(np.asarray(Image.open( file ).resize((448,448)), dtype=float) / 255, 0, 1)\n",
        "        loaded_images.append(x)\n",
        "        i = i+1\n",
        "        if(i%250 == 0):\n",
        "          print(\"{0} files loaded\".format(i))        \n",
        "    return np.stack(loaded_images, axis=0)\n",
        "\n",
        "def to_multichannel(i):\n",
        "    if i.shape[2] == 3: return i\n",
        "    i = i[:,:,0]\n",
        "    return np.stack((i,i,i), axis=2)\n",
        "        \n",
        "def display_images(outputs, inputs=None, gt=None, is_colormap=True, is_rescale=True,start = 0, end = 10, batch_number = 0, image_number = 0):\n",
        "    import matplotlib.pyplot as plt\n",
        "    import skimage\n",
        "    from skimage.transform import resize\n",
        "\n",
        "    plasma = plt.get_cmap('gray')\n",
        "\n",
        "    shape = (outputs[0].shape[0], outputs[0].shape[1], 3)\n",
        "    print(shape)\n",
        "    \n",
        "    #all_images = []\n",
        "\n",
        "    print('In display function')    \n",
        "\n",
        "    for i in notebook.tqdm(range(start,end),total = end-start,desc = f\"Loading {start+1} to {end} file\") :        \n",
        "    # for i in range(start,end):  \n",
        "        if is_colormap:          \n",
        "            \n",
        "            rescaled = outputs[i][:,:,0]\n",
        "            if is_rescale:\n",
        "                rescaled = rescaled - np.min(rescaled)\n",
        "                rescaled = rescaled / np.max(rescaled)\n",
        "  \n",
        "            plt.figure(figsize=(2.24,2.24),dpi=100)\n",
        "            matplotlib_image = plt.imshow(plasma(rescaled)[:,:,:3])\n",
        "            pil_image = Image.fromarray(np.uint8( ( matplotlib_image.get_array()*255))).convert(\"L\")\n",
        "            pil_image.save(f\"/content/gdrive/My Drive/EVA4_S14_S15/input_data/jpeg/fg_bg_depth/batch_{str(batch_number)}/fg_bg_depth{str(image_number+i)}.jpg\")\n",
        "            plt.close() \n",
        "            # plt.imsave(\"a.jpg\",plasma(rescaled)[:,:,:3])          \n",
        "\n",
        "        \n",
        "           \n",
        "\n",
        "def save_images(filename, outputs, inputs=None, gt=None, is_colormap=True, is_rescale=False):\n",
        "    montage =  display_images(outputs, inputs, is_colormap, is_rescale)\n",
        "    im = Image.fromarray(np.uint8(montage*255))\n",
        "    im.save(filename)\n",
        "\n",
        "def load_test_data(test_data_zip_file='nyu_test.zip'):\n",
        "    print('Loading test data...', end='')\n",
        "    import numpy as np\n",
        "    from data import extract_zip\n",
        "    data = extract_zip(test_data_zip_file)\n",
        "    from io import BytesIO\n",
        "    rgb = np.load(BytesIO(data['eigen_test_rgb.npy']))\n",
        "    depth = np.load(BytesIO(data['eigen_test_depth.npy']))\n",
        "    crop = np.load(BytesIO(data['eigen_test_crop.npy']))\n",
        "    print('Test data loaded.\\n')\n",
        "    return {'rgb':rgb, 'depth':depth, 'crop':crop}\n",
        "\n",
        "def compute_errors(gt, pred):\n",
        "    thresh = np.maximum((gt / pred), (pred / gt))\n",
        "    a1 = (thresh < 1.25   ).mean()\n",
        "    a2 = (thresh < 1.25 ** 2).mean()\n",
        "    a3 = (thresh < 1.25 ** 3).mean()\n",
        "    abs_rel = np.mean(np.abs(gt - pred) / gt)\n",
        "    rmse = (gt - pred) ** 2\n",
        "    rmse = np.sqrt(rmse.mean())\n",
        "    log_10 = (np.abs(np.log10(gt)-np.log10(pred))).mean()\n",
        "    return a1, a2, a3, abs_rel, rmse, log_10\n",
        "\n",
        "def evaluate(model, rgb, depth, crop, batch_size=6, verbose=False):\n",
        "    N = len(rgb)\n",
        "\n",
        "    bs = batch_size\n",
        "\n",
        "    predictions = []\n",
        "    testSetDepths = []\n",
        "    \n",
        "    for i in range(N//bs):    \n",
        "        x = rgb[(i)*bs:(i+1)*bs,:,:,:]\n",
        "        \n",
        "        # Compute results\n",
        "        true_y = depth[(i)*bs:(i+1)*bs,:,:]\n",
        "        pred_y = scale_up(2, predict(model, x/255, minDepth=10, maxDepth=1000, batch_size=bs)[:,:,:,0]) * 10.0\n",
        "        \n",
        "        # Test time augmentation: mirror image estimate\n",
        "        pred_y_flip = scale_up(2, predict(model, x[...,::-1,:]/255, minDepth=10, maxDepth=1000, batch_size=bs)[:,:,:,0]) * 10.0\n",
        "\n",
        "        # Crop based on Eigen et al. crop\n",
        "        true_y = true_y[:,crop[0]:crop[1]+1, crop[2]:crop[3]+1]\n",
        "        pred_y = pred_y[:,crop[0]:crop[1]+1, crop[2]:crop[3]+1]\n",
        "        pred_y_flip = pred_y_flip[:,crop[0]:crop[1]+1, crop[2]:crop[3]+1]\n",
        "        \n",
        "        # Compute errors per image in batch\n",
        "        for j in range(len(true_y)):\n",
        "            predictions.append(   (0.5 * pred_y[j]) + (0.5 * np.fliplr(pred_y_flip[j]))   )\n",
        "            testSetDepths.append(   true_y[j]   )\n",
        "\n",
        "    predictions = np.stack(predictions, axis=0)\n",
        "    testSetDepths = np.stack(testSetDepths, axis=0)\n",
        "\n",
        "    e = compute_errors(predictions, testSetDepths)\n",
        "\n",
        "    if verbose:\n",
        "        print(\"{:>10}, {:>10}, {:>10}, {:>10}, {:>10}, {:>10}\".format('a1', 'a2', 'a3', 'rel', 'rms', 'log_10'))\n",
        "        print(\"{:10.4f}, {:10.4f}, {:10.4f}, {:10.4f}, {:10.4f}, {:10.4f}\".format(e[0],e[1],e[2],e[3],e[4],e[5]))\n",
        "\n",
        "    return e"
      ],
      "execution_count": 0,
      "outputs": []
    },
    {
      "cell_type": "code",
      "metadata": {
        "id": "2fMWJS6ZjTi4",
        "colab_type": "code",
        "colab": {}
      },
      "source": [
        "# Manually change for each iteration\n",
        "inp_batch = []\n",
        "num_start = 38001\n",
        "num_end = 40000\n",
        "batch_no = 10"
      ],
      "execution_count": 0,
      "outputs": []
    },
    {
      "cell_type": "code",
      "metadata": {
        "id": "jDdZaOLQ97Wv",
        "colab_type": "code",
        "outputId": "fc598218-a6ba-4294-9b59-a8a5d8e6bdb9",
        "colab": {
          "base_uri": "https://localhost:8080/",
          "height": 369,
          "referenced_widgets": [
            "cd65a252b7334a3ca8b0b76ec62507b7",
            "c5524308f1114a3d9e3fdbc65a324e22",
            "b68b8a82e6ce49a29a22fa1650bf2288",
            "b6910d451a484485a0434d8d0038e962",
            "9ad55e010b174ea7ae40b4956241807d",
            "713fc81dca7a465294f37b325e45a99b",
            "22cff13eabce4e768fbde3415e21064f",
            "9bd7dc3314c84e9cb85b289dc3da2832"
          ]
        }
      },
      "source": [
        "# import test\n",
        "import os\n",
        "import glob\n",
        "import argparse\n",
        "import matplotlib\n",
        "\n",
        "# Keras / TensorFlow\n",
        "os.environ['TF_CPP_MIN_LOG_LEVEL'] = '5'\n",
        "from keras.models import load_model\n",
        "from layers import BilinearUpSampling2D\n",
        "#from utils import predict, load_images, display_images\n",
        "from matplotlib import pyplot as plt\n",
        "\n",
        "\n",
        "# Custom object needed for inference and training\n",
        "custom_objects = {'BilinearUpSampling2D': BilinearUpSampling2D, 'depth_loss_function': None}\n",
        "\n",
        "# Load model into GPU / CPU\n",
        "model = load_model('nyu.h5', custom_objects=custom_objects, compile=False)\n",
        "\n",
        "print('\\nModel loaded ({0})...'.format(\"nyu.h5\"))\n",
        "\n",
        "for i in range(num_start,num_end+1):\n",
        "  inp_batch.append(f\"/content/gdrive/My Drive/EVA4_S14_S15/input_data/jpeg/fg_bg/batch_{str(batch_no)}/fg_bg_{str(i)}.jpg\")\n",
        "\n",
        "print('Batch created...')\n",
        "\n",
        "inputs = load_images(inp_batch,start=0,end = 2000)\n",
        "# inputs = load_images(inp_batch,start=num_start-1,end = num_end)\n",
        "\n",
        "# inputs = load_images(glob.glob(\"/content/gdrive/My Drive/EVA4_S14_S15/input_data/jpeg/fg_bg/batch_1/*.jpg\"),start=num_start,end = num_end-1 )\n",
        "#   # inputs = load_images(glob.glob(f\"/content/gdrive/My Drive/EVA4_S14_S15/input_data/jpeg/fg_bg/batch_1/*.jpg\"),start=num,end = num+255 )\n",
        "#   # inputs = load_images(glob.glob(\"/content/gdrive/My Drive/EVA4_S14_S15/DenseDepth/examples/*.jpg\"),start=num,end = num+5 )\n",
        "\n",
        "print('\\nLoaded ({0}) images of size {1}.'.format(inputs.shape[0], inputs.shape[1:]))\n",
        "# Compute results\n",
        "outputs = predict(model, inputs)\n",
        "\n",
        "print('Prediction complete..')  \n",
        "\n",
        "# Display results\n",
        "display_images(outputs.copy(), inputs.copy(),start = 0, end = 2000, batch_number = batch_no, image_number = num_start)\n",
        "# num_start = num_start+num_end-1\n",
        "# num_end = num_start+257\n",
        "# break\n",
        "\n",
        "print(\"Execution complete..\")"
      ],
      "execution_count": 0,
      "outputs": [
        {
          "output_type": "stream",
          "text": [
            "Using TensorFlow backend.\n"
          ],
          "name": "stderr"
        },
        {
          "output_type": "stream",
          "text": [
            "\n",
            "Model loaded (nyu.h5)...\n",
            "Batch created...\n",
            "250 files loaded\n",
            "500 files loaded\n",
            "750 files loaded\n",
            "1000 files loaded\n",
            "1250 files loaded\n",
            "1500 files loaded\n",
            "1750 files loaded\n",
            "2000 files loaded\n",
            "\n",
            "Loaded (2000) images of size (448, 448, 3).\n",
            "Prediction complete..\n",
            "(224, 224, 3)\n",
            "In display function\n"
          ],
          "name": "stdout"
        },
        {
          "output_type": "display_data",
          "data": {
            "application/vnd.jupyter.widget-view+json": {
              "model_id": "cd65a252b7334a3ca8b0b76ec62507b7",
              "version_minor": 0,
              "version_major": 2
            },
            "text/plain": [
              "HBox(children=(FloatProgress(value=0.0, description='Loading 1 to 2000 file', max=2000.0, style=ProgressStyle(…"
            ]
          },
          "metadata": {
            "tags": []
          }
        },
        {
          "output_type": "stream",
          "text": [
            "\n",
            "Execution complete..\n"
          ],
          "name": "stdout"
        }
      ]
    },
    {
      "cell_type": "code",
      "metadata": {
        "id": "BMv-37eZuamZ",
        "colab_type": "code",
        "colab": {}
      },
      "source": [
        "from PIL import Image\n",
        "a = Image.open(\"/content/gdrive/My Drive/EVA4_S14_S15/input_data/jpeg/fg_bg_depth/batch_1/fg_bg_depth39602.jpg\")\n",
        "a"
      ],
      "execution_count": 0,
      "outputs": []
    },
    {
      "cell_type": "code",
      "metadata": {
        "id": "jJeFBFzHyfrj",
        "colab_type": "code",
        "outputId": "605b65ce-d0c4-4cde-dd73-d83abde55070",
        "colab": {
          "base_uri": "https://localhost:8080/",
          "height": 241
        }
      },
      "source": [
        "from PIL import Image\n",
        "a = Image.open(\"/content/gdrive/My Drive/EVA4_S14_S15/input_data/jpeg/fg_bg/batch_1/fg_bg_39602.jpg\")\n",
        "a"
      ],
      "execution_count": 0,
      "outputs": [
        {
          "output_type": "execute_result",
          "data": {
            "image/png": "[encoded data removed]",
            "text/plain": [
              "<PIL.JpegImagePlugin.JpegImageFile image mode=RGB size=224x224 at 0x7F3E3158E438>"
            ]
          },
          "metadata": {
            "tags": []
          },
          "execution_count": 8
        }
      ]
    },
    {
      "cell_type": "code",
      "metadata": {
        "id": "Z10-NKU3Exff",
        "colab_type": "code",
        "colab": {}
      },
      "source": [
        "import torch\n",
        "from torch.utils.data import Dataset\n",
        "import os\n",
        "from PIL import Image"
      ],
      "execution_count": 0,
      "outputs": []
    },
    {
      "cell_type": "code",
      "metadata": {
        "id": "FlPI_7mcEwv2",
        "colab_type": "code",
        "colab": {}
      },
      "source": [
        "class CustomDataset(Dataset):\n",
        "  def __init__(self):\n",
        "    self.data = []\n",
        "    for i in range(1,40001):\n",
        "      img = Image.open(f\"/content/gdrive/My Drive/EVA4_S14_S15/input_data/jpeg/fg_bg/batch_1/fg_bg_{str(i)}.jpg\")\n",
        "      npimg = np.asarray(img)\n",
        "      self.data.append(npimg)\n",
        "  \n",
        "  def __len__(self):\n",
        "    return len(self.data)\n",
        "\n",
        "  def __getitem__(self, idx):\n",
        "    data = self.data[idx]\n",
        "    img = data     \n",
        "    return data"
      ],
      "execution_count": 0,
      "outputs": []
    },
    {
      "cell_type": "code",
      "metadata": {
        "id": "vRntSRAuUuZh",
        "colab_type": "code",
        "colab": {}
      },
      "source": [
        "dataset = CustomDataset()"
      ],
      "execution_count": 0,
      "outputs": []
    },
    {
      "cell_type": "code",
      "metadata": {
        "id": "wV6kaoIGUwZj",
        "colab_type": "code",
        "outputId": "966b11a3-fe05-4a91-b5df-b0a109a1a710",
        "colab": {
          "base_uri": "https://localhost:8080/",
          "height": 844
        }
      },
      "source": [
        "npimg"
      ],
      "execution_count": 0,
      "outputs": [
        {
          "output_type": "execute_result",
          "data": {
            "text/plain": [
              "array([[[ 0, 20, 24],\n",
              "        [11, 39, 42],\n",
              "        [ 6, 32, 33],\n",
              "        ...,\n",
              "        [19, 50, 44],\n",
              "        [ 0, 40, 31],\n",
              "        [ 0, 32, 21]],\n",
              "\n",
              "       [[ 1, 31, 33],\n",
              "        [15, 43, 46],\n",
              "        [ 8, 34, 35],\n",
              "        ...,\n",
              "        [15, 46, 40],\n",
              "        [ 0, 40, 31],\n",
              "        [ 0, 35, 24]],\n",
              "\n",
              "       [[ 0, 22, 24],\n",
              "        [12, 40, 43],\n",
              "        [26, 52, 53],\n",
              "        ...,\n",
              "        [12, 43, 37],\n",
              "        [ 2, 42, 33],\n",
              "        [ 0, 41, 30]],\n",
              "\n",
              "       ...,\n",
              "\n",
              "       [[ 9, 42, 87],\n",
              "        [13, 46, 89],\n",
              "        [20, 52, 93],\n",
              "        ...,\n",
              "        [84,  7, 13],\n",
              "        [66,  0,  6],\n",
              "        [89, 10, 29]],\n",
              "\n",
              "       [[19, 43, 79],\n",
              "        [22, 46, 82],\n",
              "        [26, 48, 85],\n",
              "        ...,\n",
              "        [75, 19, 30],\n",
              "        [38,  0, 13],\n",
              "        [38,  0, 18]],\n",
              "\n",
              "       [[28, 45, 75],\n",
              "        [28, 45, 75],\n",
              "        [28, 45, 75],\n",
              "        ...,\n",
              "        [45,  3, 15],\n",
              "        [15,  0,  9],\n",
              "        [22,  5, 24]]], dtype=uint8)"
            ]
          },
          "metadata": {
            "tags": []
          },
          "execution_count": 18
        }
      ]
    }
  ]
}